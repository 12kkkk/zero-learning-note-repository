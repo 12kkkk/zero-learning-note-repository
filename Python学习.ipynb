{
 "cells": [
  {
   "cell_type": "markdown",
   "id": "3fb890da-96aa-46bc-bbae-84b4ae567622",
   "metadata": {
    "panel-layout": {
     "height": 51.1354,
     "visible": true,
     "width": 100
    }
   },
   "source": [
    "# Python学习"
   ]
  },
  {
   "cell_type": "markdown",
   "id": "26bd6422-9e87-4db2-890e-f7ee9cd5799b",
   "metadata": {
    "panel-layout": {
     "height": 0,
     "visible": true,
     "width": 100
    }
   },
   "source": [
    "# 一、Python的变量、数据类型、注释、数据结构"
   ]
  },
  {
   "cell_type": "markdown",
   "id": "34b5cd09-1f0e-4601-8760-1499e75ac38c",
   "metadata": {},
   "source": [
    "## 1、变量"
   ]
  },
  {
   "cell_type": "markdown",
   "id": "efbd9ad5-f85d-4511-a147-a4fc3a5b3fb3",
   "metadata": {
    "panel-layout": {
     "height": 10,
     "visible": true,
     "width": 100
    }
   },
   "source": [
    "定义一个变量"
   ]
  },
  {
   "cell_type": "code",
   "execution_count": 2,
   "id": "e33f8a57-0386-4cbb-ae27-265afbf3ab22",
   "metadata": {},
   "outputs": [
    {
     "name": "stdout",
     "output_type": "stream",
     "text": [
      "2\n",
      "word\n",
      "word 2\n"
     ]
    }
   ],
   "source": [
    "a_number = 2   # 用等号定义变量 =\n",
    "print(a_number)  # print输出结果\n",
    "\n",
    "a_str = 'word'  # 赋值字符串变量\n",
    "print(a_str)\n",
    "\n",
    "# 同时输出多个结果\n",
    "print(a_str,a_number)"
   ]
  },
  {
   "cell_type": "markdown",
   "id": "c9783a0a-2288-45ef-ac72-3785bc0c38e4",
   "metadata": {},
   "source": [
    "同时对多个变量赋值"
   ]
  },
  {
   "cell_type": "code",
   "execution_count": 12,
   "id": "e44b73c2-1f67-4329-b566-263663197b3e",
   "metadata": {},
   "outputs": [
    {
     "name": "stdout",
     "output_type": "stream",
     "text": [
      "4 str 3\n"
     ]
    }
   ],
   "source": [
    "x,y,z = 3,4,'str'\n",
    "\n",
    "print(y,z,x)"
   ]
  },
  {
   "cell_type": "markdown",
   "id": "7afc9b76-c433-4937-974a-4f803607abf8",
   "metadata": {},
   "source": [
    "## 2、Python数据类型"
   ]
  },
  {
   "cell_type": "markdown",
   "id": "362fff2a-1614-456d-9456-963e66408515",
   "metadata": {},
   "source": [
    "Python基本的数据类型包括：字符串、数字（整数、浮点数）"
   ]
  },
  {
   "cell_type": "markdown",
   "id": "2c5cd9b1-b2dc-458e-8438-3e5540956590",
   "metadata": {},
   "source": [
    "### 2.1 字符串"
   ]
  },
  {
   "cell_type": "code",
   "execution_count": null,
   "id": "990693b5-4e3f-4b52-8acd-b43702fd6613",
   "metadata": {},
   "outputs": [],
   "source": [
    "用“ ”、''引起的都是字符串"
   ]
  },
  {
   "cell_type": "code",
   "execution_count": 3,
   "id": "4c469a69-78d0-4a93-97ed-2dc6d9481136",
   "metadata": {},
   "outputs": [
    {
     "name": "stdout",
     "output_type": "stream",
     "text": [
      "python\n"
     ]
    }
   ],
   "source": [
    "a_str = 'python'  # 字符串变量\n",
    "print(a_str)"
   ]
  },
  {
   "cell_type": "markdown",
   "id": "454a3376-f1e9-4a79-be46-a9ce34a8686a",
   "metadata": {},
   "source": [
    "字符串的方法"
   ]
  },
  {
   "cell_type": "code",
   "execution_count": 4,
   "id": "06bb6984-c89f-48fd-99d0-4b6f56248910",
   "metadata": {},
   "outputs": [
    {
     "name": "stdout",
     "output_type": "stream",
     "text": [
      "A Wondful Word \n",
      "A WONDFUL WORD \n",
      "a wondful word \n"
     ]
    }
   ],
   "source": [
    "a_wordlist = 'a wondful Word '\n",
    "a_wordlist.title()  # 将字符串第一个字母大写，包括每个单词\n",
    "print(a_wordlist.title())\n",
    "print(a_wordlist.upper()) # 全部大写\n",
    "print(a_wordlist.lower()) # 全部小写"
   ]
  },
  {
   "cell_type": "markdown",
   "id": "bd587650-370e-4923-9523-a29fdec8b553",
   "metadata": {},
   "source": [
    "合并字符串\n"
   ]
  },
  {
   "cell_type": "code",
   "execution_count": 6,
   "id": "15983a86-7fc0-4842-81f8-cd10b5b01cf5",
   "metadata": {},
   "outputs": [
    {
     "name": "stdout",
     "output_type": "stream",
     "text": [
      "I am a man\n"
     ]
    }
   ],
   "source": [
    "# 合并字符串,；利用'+'进行合并、拼接\n",
    "word_a = 'I'\n",
    "word_b = 'am'\n",
    "word_c = 'a man'\n",
    "\n",
    "a_sentence = word_a + ' ' + word_b + ' '+ word_c\n",
    "print(a_sentence)\n"
   ]
  },
  {
   "cell_type": "markdown",
   "id": "6fb849c0-3d3f-4afe-b9cd-0418f3780a67",
   "metadata": {},
   "source": [
    "删除字符串间的空白"
   ]
  },
  {
   "cell_type": "code",
   "execution_count": 7,
   "id": "597f5ba8-b418-4b3a-8a37-d2a7732e41dc",
   "metadata": {},
   "outputs": [
    {
     "name": "stdout",
     "output_type": "stream",
     "text": [
      "   python is best language\n",
      "   python is best language   \n",
      "python is best language   \n",
      "python is best language\n"
     ]
    }
   ],
   "source": [
    "# rstrip方法除去末尾空白（空格）\n",
    "sentence_b = ('   python is best language   ')\n",
    "print(sentence_b.rstrip())\n",
    "print(sentence_b)\n",
    "print(sentence_b.lstrip()) # 去除字符串开头空白\n",
    "print(sentence_b.strip())  # 去除字符串两头空白"
   ]
  },
  {
   "cell_type": "markdown",
   "id": "ae849cbf-e133-44ff-a40c-30c3141f2513",
   "metadata": {},
   "source": [
    "将其他数据类型转化为字符串"
   ]
  },
  {
   "cell_type": "code",
   "execution_count": 11,
   "id": "036f1762-586e-4aae-883a-d4caa8a324e4",
   "metadata": {},
   "outputs": [
    {
     "name": "stdout",
     "output_type": "stream",
     "text": [
      "word has 4 aphebelte\n",
      "0.2\n"
     ]
    }
   ],
   "source": [
    "# 将其他变量转换为字符串\n",
    "# print('word has' + ' ' +  4 + ' '+ 'aphebelte') 会报错\n",
    "\n",
    "print('word has' + ' ' +  str(4) + ' '+ 'aphebelte') \n",
    "\n",
    "a_1 = str(0.2) # 转化为字符串\n",
    "type(a_1)\n",
    "print(a_1)"
   ]
  },
  {
   "cell_type": "markdown",
   "id": "71c9ee7b-4251-4ef3-8a79-83dbef3c8df0",
   "metadata": {},
   "source": [
    "### 2.2数字：整数、浮点数"
   ]
  },
  {
   "cell_type": "markdown",
   "id": "26089656-e717-49d0-8f56-2df5947f90e2",
   "metadata": {},
   "source": [
    "+ 整数"
   ]
  },
  {
   "cell_type": "code",
   "execution_count": 6,
   "id": "22b600b0-b198-4b0d-b125-5b8e3e391c1f",
   "metadata": {},
   "outputs": [
    {
     "name": "stdout",
     "output_type": "stream",
     "text": [
      "2\n"
     ]
    },
    {
     "data": {
      "text/plain": [
       "8"
      ]
     },
     "execution_count": 6,
     "metadata": {},
     "output_type": "execute_result"
    }
   ],
   "source": [
    "a_int = 2\n",
    "print(a_int)\n",
    "2+3\n",
    "2/5\n",
    "2**3"
   ]
  },
  {
   "cell_type": "markdown",
   "id": "af1915d8-cada-4e7d-a943-8daab4639a65",
   "metadata": {},
   "source": [
    "+ 浮点数"
   ]
  },
  {
   "cell_type": "code",
   "execution_count": 8,
   "id": "22981a6a-a8a8-4540-97d3-f31433520be0",
   "metadata": {},
   "outputs": [
    {
     "name": "stdout",
     "output_type": "stream",
     "text": [
      "0.6\n"
     ]
    },
    {
     "data": {
      "text/plain": [
       "0.4"
      ]
     },
     "execution_count": 8,
     "metadata": {},
     "output_type": "execute_result"
    }
   ],
   "source": [
    "a_float = 0.6\n",
    "print(a_float)\n",
    "0.1+0.3"
   ]
  },
  {
   "cell_type": "markdown",
   "id": "94e46cbc-0d9d-4feb-8e92-5caf2f2c79ab",
   "metadata": {},
   "source": [
    "数字的基本运算"
   ]
  },
  {
   "cell_type": "code",
   "execution_count": 8,
   "id": "80c89b58-7d41-44f7-b856-9f0759009278",
   "metadata": {},
   "outputs": [
    {
     "data": {
      "text/plain": [
       "16"
      ]
     },
     "execution_count": 8,
     "metadata": {},
     "output_type": "execute_result"
    }
   ],
   "source": [
    "# 数字的基本运算 + - *  /\n",
    "10+1\n",
    "12-2\n",
    "12*2\n",
    "12/11\n",
    "\n",
    "2**4 # 幂运算"
   ]
  },
  {
   "cell_type": "markdown",
   "id": "2ab3452f-fd4d-4529-98fb-9824e713afc2",
   "metadata": {},
   "source": [
    "## 3、注释"
   ]
  },
  {
   "cell_type": "markdown",
   "id": "2bfd7756-a3de-4b23-a66b-65d49daed270",
   "metadata": {},
   "source": [
    "用 # 标识，# 后的为注释，不被程序解释"
   ]
  },
  {
   "cell_type": "code",
   "execution_count": 14,
   "id": "8e6f2aa6-b2b3-4dd8-a022-779be74c7782",
   "metadata": {},
   "outputs": [
    {
     "name": "stdout",
     "output_type": "stream",
     "text": [
      "a_value\n"
     ]
    }
   ],
   "source": [
    "print('a_value') # 输出结果"
   ]
  },
  {
   "cell_type": "markdown",
   "id": "689a3766-aae5-4cf1-8cc1-5a7de0be73dc",
   "metadata": {},
   "source": [
    "## 4、Python的数据结构"
   ]
  },
  {
   "cell_type": "markdown",
   "id": "6b6d0441-2af7-4215-8a41-6541d2784f0a",
   "metadata": {},
   "source": [
    "Python常见的数据结构中包括：列表、元组、字典、类"
   ]
  },
  {
   "cell_type": "markdown",
   "id": "5fc549e5-ea68-4dd3-990d-d2bd6ab824d6",
   "metadata": {},
   "source": [
    "### 4.1、列表"
   ]
  },
  {
   "cell_type": "markdown",
   "id": "f74c3fdb-375a-49a1-9219-969b362492e2",
   "metadata": {},
   "source": [
    "列表是有特定顺序的元素组合，python用[]创建列表对象"
   ]
  },
  {
   "cell_type": "code",
   "execution_count": 13,
   "id": "014219df-3d26-4b78-b84c-e6b60688baad",
   "metadata": {},
   "outputs": [
    {
     "name": "stdout",
     "output_type": "stream",
     "text": [
      "['a', 's', 'sf', 'f']\n"
     ]
    }
   ],
   "source": [
    "list_a = ['a','s','sf','f']  # 一个字符串列表\n",
    "print(list_a)"
   ]
  },
  {
   "cell_type": "code",
   "execution_count": 17,
   "id": "527a4ffa-cb6a-42be-a4ea-13e7eb316058",
   "metadata": {},
   "outputs": [
    {
     "name": "stdout",
     "output_type": "stream",
     "text": [
      "[2, 3, 1, 3, 2, 22, 1, 2, 222, 2, 2]\n"
     ]
    }
   ],
   "source": [
    "list_b = [2,3,1,3,2,22,1,2,222,2,2]  # 一个数字列表\n",
    "print(list_b)"
   ]
  },
  {
   "cell_type": "code",
   "execution_count": 51,
   "id": "3b76d85d-fd2d-4b34-bfee-5402dc2e43a7",
   "metadata": {},
   "outputs": [
    {
     "name": "stdout",
     "output_type": "stream",
     "text": [
      "['s', 'sr', '2', 3, 4, 'rr']\n"
     ]
    }
   ],
   "source": [
    "list_c = ['s','sr','2',3,4,'rr']  # 嵌合列表\n",
    "print(list_c)"
   ]
  },
  {
   "cell_type": "markdown",
   "id": "88f1a999-dee4-482d-ba4d-76ef5e159339",
   "metadata": {},
   "source": [
    "访问列表元素,索引从0开始"
   ]
  },
  {
   "cell_type": "code",
   "execution_count": 14,
   "id": "0b55e26c-5061-4bf5-85bd-242121537390",
   "metadata": {},
   "outputs": [
    {
     "name": "stdout",
     "output_type": "stream",
     "text": [
      "['a', 's', 'sf', 'f']\n",
      "A\n"
     ]
    }
   ],
   "source": [
    "print(list_a)\n",
    "list_a[1]\n",
    "\n",
    "list_a[0].upper()\n",
    "print(list_a[0].upper()) # 对所需的元素进行设置"
   ]
  },
  {
   "cell_type": "markdown",
   "id": "0c6d9058-979d-4071-86cd-204c204ac09c",
   "metadata": {},
   "source": [
    "上面结果发现，我们访问列表在1位置的元素，返回的是第二个元素，python的索引是从0开始的"
   ]
  },
  {
   "cell_type": "code",
   "execution_count": 16,
   "id": "3e521d3b-ade7-4088-be59-b9f1b720eef9",
   "metadata": {},
   "outputs": [
    {
     "ename": "NameError",
     "evalue": "name 'list_b' is not defined",
     "output_type": "error",
     "traceback": [
      "\u001b[1;31m---------------------------------------------------------------------------\u001b[0m",
      "\u001b[1;31mNameError\u001b[0m                                 Traceback (most recent call last)",
      "Cell \u001b[1;32mIn[16], line 1\u001b[0m\n\u001b[1;32m----> 1\u001b[0m \u001b[38;5;28mprint\u001b[39m(list_b)\n\u001b[0;32m      2\u001b[0m list_b[\u001b[38;5;241m-\u001b[39m\u001b[38;5;241m1\u001b[39m]\n",
      "\u001b[1;31mNameError\u001b[0m: name 'list_b' is not defined"
     ]
    }
   ],
   "source": [
    "print(list_b)\n",
    "list_b[-1]   # 访问列表最后一个元素"
   ]
  },
  {
   "cell_type": "markdown",
   "id": "7a8f8947-6496-48d8-a800-fb1721bee2fa",
   "metadata": {},
   "source": [
    "+ 修改列表元素"
   ]
  },
  {
   "cell_type": "code",
   "execution_count": 54,
   "id": "e56c446f-a63f-4bf7-81c0-ec0575220707",
   "metadata": {},
   "outputs": [
    {
     "name": "stdout",
     "output_type": "stream",
     "text": [
      "['a', 'b', 'c', 'd']\n",
      "['a', 'b', 'c', 'z']\n"
     ]
    }
   ],
   "source": [
    "list_d = ['a','b','c','d']  # 定义一个列表\n",
    "print(list_d)\n",
    "\n",
    "list_d[-1] = 'z'  # 修改列表最后一个元素为'z'\n",
    "print(list_d)"
   ]
  },
  {
   "cell_type": "markdown",
   "id": "154e8e04-9ee1-4938-90be-4fdede2ea159",
   "metadata": {},
   "source": [
    "+ 列表添加元素"
   ]
  },
  {
   "cell_type": "code",
   "execution_count": 55,
   "id": "138550cd-9dd8-471b-b495-f92175c7d512",
   "metadata": {},
   "outputs": [
    {
     "name": "stdout",
     "output_type": "stream",
     "text": [
      "['a', 'b', 'c']\n",
      "['a', 'b', 'c', 'z']\n",
      "['a', 'o', 'b', 'c', 'z']\n"
     ]
    }
   ],
   "source": [
    "# 1、在列表最后添加元素\n",
    "list_e = ['a','b','c']  # 定义列表\n",
    "print(list_e)\n",
    "\n",
    "list_e.append('z') # 列表添加元素'z'\n",
    "print(list_e)\n",
    "\n",
    "\n",
    "# 2、列表插入元素\n",
    "list_e.insert(1,'o')  # 在索引为1的位置插入元素'o'\n",
    "print(list_e)"
   ]
  },
  {
   "cell_type": "markdown",
   "id": "8f6a3997-0957-4e39-bec7-c877043b6b79",
   "metadata": {},
   "source": [
    "上面我们用到了list_e.append(),这是python的方法，即.append()"
   ]
  },
  {
   "cell_type": "markdown",
   "id": "dd631e09-6716-4eaa-94ce-304d32d4989e",
   "metadata": {},
   "source": [
    "+ 列表删除元素"
   ]
  },
  {
   "cell_type": "code",
   "execution_count": 19,
   "id": "37795bb6-f510-48bb-9b6c-444b956e8e6c",
   "metadata": {},
   "outputs": [
    {
     "name": "stdout",
     "output_type": "stream",
     "text": [
      "['2', 2, 'd', 'dd', 'ed']\n",
      "['2', 'd', 'dd', 'ed']\n",
      "['2', 'd', 'ed']\n",
      "ed\n",
      "['d']\n"
     ]
    }
   ],
   "source": [
    "list_f = ['2',2,'d','dd','ed']\n",
    "print(list_f)\n",
    "\n",
    "del list_f[1]  # 删除列表的索引1元素，已知索引\n",
    "print(list_f)\n",
    "\n",
    "# 用pop方法，pop方法还能从列表中取出最后一个元素，即从列表删除，而独立出来\n",
    "list_f.pop(2)  # 删除列表的索引2元素，已知索引\n",
    "print(list_f)\n",
    "\n",
    "part_b = list_f.pop(2) # 将索引为2的元素从列表中移出，存为part_b\n",
    "print(part_b)\n",
    "\n",
    "\n",
    "# 根据值删除元素\n",
    "list_f.remove('2')  # 只删除第一个指定值\n",
    "print(list_f)"
   ]
  },
  {
   "cell_type": "markdown",
   "id": "384d9fa8-5c21-46f5-a5d2-ffe112de6314",
   "metadata": {},
   "source": [
    "+ 列表排序"
   ]
  },
  {
   "cell_type": "code",
   "execution_count": 57,
   "id": "cc47ded7-9203-4fd4-ad32-7444bafa136c",
   "metadata": {},
   "outputs": [
    {
     "name": "stdout",
     "output_type": "stream",
     "text": [
      "[2, 4, 5, 6, 2, 3, 2, 1, 11, 1, 676, 45, 454, 0]\n",
      "[0, 1, 1, 2, 2, 2, 3, 4, 5, 6, 11, 45, 454, 676]\n",
      "[676, 454, 45, 11, 6, 5, 4, 3, 2, 2, 2, 1, 1, 0]\n",
      "-------------------------------\n",
      "[2, 4, 2, 42, 3, 2, 11, 233, 2323, 21]\n",
      "[2, 2, 2, 3, 4, 11, 21, 42, 233, 2323]\n",
      "[2, 4, 2, 42, 3, 2, 11, 233, 2323, 21]\n",
      "line2--------------\n",
      "[2, 4, 2, 42, 3, 2, 11, 233, 2323, 21]\n",
      "[21, 2323, 233, 11, 2, 3, 42, 2, 4, 2]\n"
     ]
    }
   ],
   "source": [
    "list_g = [2,4,5,6,2,3,2,1,11,1,676,45,454,0]\n",
    "print(list_g)\n",
    "\n",
    "list_g.sort()  # 列表永久排序\n",
    "print(list_g)\n",
    "\n",
    "list_g.sort(reverse= True)  # 倒叙\n",
    "print(list_g)\n",
    "\n",
    "\n",
    "# 临时排序\n",
    "print('-------------------------------')\n",
    "list_h = [2,4,2,42,3,2,11,233,2323,21]\n",
    "print(list_h)\n",
    "\n",
    "print(sorted(list_h))\n",
    "\n",
    "print(list_h)\n",
    "\n",
    "print('line2--------------')\n",
    "\n",
    "# 反转序列顺序\n",
    "print(list_h)\n",
    "list_h.reverse()  # 逆转顺序，而非倒叙\n",
    "print(list_h)"
   ]
  },
  {
   "cell_type": "markdown",
   "id": "e639093f-8707-409c-9771-b98c2f1a9227",
   "metadata": {},
   "source": [
    "+ 列表长度"
   ]
  },
  {
   "cell_type": "code",
   "execution_count": 58,
   "id": "67951ad1-183b-4305-a726-6d80d01a986e",
   "metadata": {},
   "outputs": [
    {
     "data": {
      "text/plain": [
       "10"
      ]
     },
     "execution_count": 58,
     "metadata": {},
     "output_type": "execute_result"
    }
   ],
   "source": [
    "len(list_h)"
   ]
  },
  {
   "cell_type": "markdown",
   "id": "bcaee8ea-028f-49d7-ae79-1f38066cca70",
   "metadata": {},
   "source": [
    "* 创建数值型列表"
   ]
  },
  {
   "cell_type": "code",
   "execution_count": 59,
   "id": "e0489729-8371-4198-88b9-7f1e62f3fb0c",
   "metadata": {},
   "outputs": [
    {
     "name": "stdout",
     "output_type": "stream",
     "text": [
      "range(0, 6)\n",
      "[0, 1, 2, 3, 4, 5]\n"
     ]
    }
   ],
   "source": [
    "num  = range(6) \n",
    "list_num = list(num)  # 用list()函数将range生成的结果转化为列表\n",
    "\n",
    "print(num)\n",
    "print(list_num)"
   ]
  },
  {
   "cell_type": "markdown",
   "id": "28f29f78-0a89-41d7-845c-252ff2764456",
   "metadata": {},
   "source": [
    "+ 对数值列表进行简单的统计"
   ]
  },
  {
   "cell_type": "code",
   "execution_count": 61,
   "id": "4710fbf2-e20b-4ec9-a280-24b48425562f",
   "metadata": {},
   "outputs": [
    {
     "name": "stdout",
     "output_type": "stream",
     "text": [
      "[0, 1, 2, 3, 4, 5]\n"
     ]
    },
    {
     "data": {
      "text/plain": [
       "15"
      ]
     },
     "execution_count": 61,
     "metadata": {},
     "output_type": "execute_result"
    }
   ],
   "source": [
    "print(list_num)\n",
    "\n",
    "min(list_num) # 计算数值列表的最小值\n",
    "max(list_num) # 最大值\n",
    "sum(list_num) # 求和"
   ]
  },
  {
   "cell_type": "markdown",
   "id": "cdef7350-4ed5-4b41-bd9f-892d5febf4ae",
   "metadata": {},
   "source": [
    "+ 列表推导式"
   ]
  },
  {
   "cell_type": "code",
   "execution_count": 62,
   "id": "1d24b51c-1ffb-4645-9069-fc1382580c31",
   "metadata": {},
   "outputs": [
    {
     "name": "stdout",
     "output_type": "stream",
     "text": [
      "[1, 4, 9, 16, 25, 36, 49, 64, 81, 100]\n"
     ]
    }
   ],
   "source": [
    "squares = [value ** 2 for value in range(1,11)]\n",
    "print(squares)"
   ]
  },
  {
   "cell_type": "markdown",
   "id": "20b14cce-d037-412d-8915-a8ae88518833",
   "metadata": {},
   "source": [
    "+ 列表的切片"
   ]
  },
  {
   "cell_type": "code",
   "execution_count": 28,
   "id": "8d7506ef-015c-4d2c-ada8-3e71cc12cf79",
   "metadata": {},
   "outputs": [
    {
     "name": "stdout",
     "output_type": "stream",
     "text": [
      "['as', 'asd', 'fgd', 'ssw', 'dfs', 'sfe', 'wer', 'cvb', 'fsd', 'wewe', 'wwewrf', 'kfl', 'effr', 'erf', 'erfsdf', 'sdf', 'sdf']\n",
      "['as', 'asd', 'fgd']\n",
      "['as', 'asd', 'fgd', 'ssw']\n",
      "['wer', 'cvb', 'fsd', 'wewe', 'wwewrf', 'kfl', 'effr', 'erf', 'erfsdf', 'sdf', 'sdf']\n",
      "['erfsdf', 'sdf', 'sdf']\n"
     ]
    }
   ],
   "source": [
    "list_str = ['as','asd','fgd','ssw','dfs','sfe','wer','cvb','fsd','wewe','wwewrf','kfl','effr','erf','erfsdf','sdf','sdf']\n",
    "print(list_str)\n",
    "\n",
    "print(list_str[1:3])  # 索引从1到3的元素\n",
    "print(list_str[:4])  # # 索引从0到4的元素\n",
    "print(list_str[6:])   # 索引6及其后的全部元素\n",
    "print(list_str[-3:])  # 索引-3到最后的元素，最后三个元素"
   ]
  },
  {
   "cell_type": "markdown",
   "id": "28c3e645-b410-421d-a000-721ea698df62",
   "metadata": {},
   "source": [
    "* 复制列表"
   ]
  },
  {
   "cell_type": "code",
   "execution_count": 31,
   "id": "dd8c7f0d-c84d-4506-94b2-838d5381b5a0",
   "metadata": {},
   "outputs": [
    {
     "name": "stdout",
     "output_type": "stream",
     "text": [
      "['as', 'asd', 'fgd', 'ssw', 'dfs', 'sfe', 'wer', 'cvb', 'fsd', 'wewe', 'wwewrf', 'kfl', 'effr', 'erf', 'erfsdf', 'sdf', 'sdf']\n",
      "['as', 'asd', 'fgd', 'ssw', 'dfs', 'sfe', 'wer', 'cvb', 'fsd', 'wewe', 'wwewrf', 'kfl', 'effr', 'erf', 'erfsdf', 'sdf', 'sdf']\n"
     ]
    }
   ],
   "source": [
    "print(list_str)\n",
    "\n",
    "list_str_1 = list_str[:]  # 复制列表\n",
    "\n",
    "print(list_str_1)"
   ]
  },
  {
   "cell_type": "markdown",
   "id": "c569f7f2-f564-4e47-bc97-864be6181edc",
   "metadata": {},
   "source": [
    "遍历列表"
   ]
  },
  {
   "cell_type": "code",
   "execution_count": 20,
   "id": "25e715e6-82e7-4e64-99ac-ca379ed0682b",
   "metadata": {},
   "outputs": [
    {
     "name": "stdout",
     "output_type": "stream",
     "text": [
      "d\n"
     ]
    },
    {
     "data": {
      "text/plain": [
       "'d'"
      ]
     },
     "execution_count": 20,
     "metadata": {},
     "output_type": "execute_result"
    }
   ],
   "source": [
    "# for 循环遍历列表\n",
    "list_1 = ['一枪穿云','周泽楷','夜雨声烦','黄少天','君莫笑','叶修']\n",
    "for Id in list_f:\n",
    "    print(Id)\n",
    "Id  # 遍历后，储存的最后一个变量为列表的最后一个元素"
   ]
  },
  {
   "cell_type": "markdown",
   "id": "4d9d6874-e8b9-42ac-9755-9d473d63164a",
   "metadata": {},
   "source": [
    "### 4.2 元组"
   ]
  },
  {
   "cell_type": "markdown",
   "id": "1cc679b2-6b0c-403a-8025-8bb20870535f",
   "metadata": {},
   "source": [
    "元组的元素不可修改，即元组是不可变的列表"
   ]
  },
  {
   "cell_type": "code",
   "execution_count": 48,
   "id": "e5626669-dfc6-4c75-a368-73284d8a15db",
   "metadata": {},
   "outputs": [
    {
     "name": "stdout",
     "output_type": "stream",
     "text": [
      "('hs', 'ss', 'df', 'er', 'er')\n",
      "(223, 3, 2, 12, 3, 34, 2)\n",
      "('er', 'we', 2, '32', 23, '23', 'ssf')\n"
     ]
    }
   ],
   "source": [
    "tuple_1 = ('hs','ss','df','er','er')  # 用括号创建元组\n",
    "\n",
    "tuple_2 = (223,3,2,12,3,34,2)\n",
    "\n",
    "tuple_3 = ('er','we',2,'32',23,'23','ssf')\n",
    "\n",
    "print(tuple_1)\n",
    "print(tuple_2)\n",
    "print(tuple_3)"
   ]
  },
  {
   "cell_type": "markdown",
   "id": "3d69ac08-8926-4838-9fc9-093d21ca98bd",
   "metadata": {},
   "source": [
    "访问元组元素、循环遍历元组与列表方法相同"
   ]
  },
  {
   "cell_type": "markdown",
   "id": "9308750f-536a-46ea-8e02-6cfbc5c188be",
   "metadata": {},
   "source": [
    "+ 修改元组变量"
   ]
  },
  {
   "cell_type": "code",
   "execution_count": 34,
   "id": "1278b093-ac8b-4b49-bfbd-f80d243b8249",
   "metadata": {},
   "outputs": [
    {
     "name": "stdout",
     "output_type": "stream",
     "text": [
      "(12, 13, 14)\n",
      "(23, 24, 25)\n"
     ]
    }
   ],
   "source": [
    "tuple_4 = (12,13,14)\n",
    "print(tuple_4)\n",
    "\n",
    "tuple_4 = (23,24,25)\n",
    "print(tuple_4)"
   ]
  },
  {
   "cell_type": "markdown",
   "id": "59c7f6ad-7fad-4516-be9c-c9b657be9f0d",
   "metadata": {},
   "source": [
    "遍历元组"
   ]
  },
  {
   "cell_type": "code",
   "execution_count": 21,
   "id": "d7ff66ef-efd8-4deb-acc5-129878ac216d",
   "metadata": {},
   "outputs": [
    {
     "name": "stdout",
     "output_type": "stream",
     "text": [
      "a\n",
      "ada\n",
      "da\n",
      "e\n",
      "e\n"
     ]
    }
   ],
   "source": [
    "# 遍历元组元素\n",
    "dimension_a = ('a','ada','da','e','e')\n",
    "for element in dimension_a:\n",
    "    print(element)"
   ]
  },
  {
   "cell_type": "markdown",
   "id": "71868845-acc0-478c-b776-8f581753be3d",
   "metadata": {},
   "source": [
    "### 4.3 字典"
   ]
  },
  {
   "cell_type": "code",
   "execution_count": 38,
   "id": "0148f62b-d7b5-479b-afd2-eb203220bb17",
   "metadata": {},
   "outputs": [
    {
     "name": "stdout",
     "output_type": "stream",
     "text": [
      "{'color': 'red', 'point': 5}\n",
      "red\n",
      "5\n"
     ]
    }
   ],
   "source": [
    "# 创建一个字典{},字典的元素为一系列的 name ：value的键值对\n",
    "a_alien = {'color':'red','point':5}\n",
    "print(a_alien)\n",
    "\n",
    "# 访问字典，把键放在【】内，输出值\n",
    "print(a_alien['color'])\n",
    "print(a_alien['point'])"
   ]
  },
  {
   "cell_type": "code",
   "execution_count": 39,
   "id": "2011a0cb-4c6b-4dfc-879d-7b2bb66534be",
   "metadata": {},
   "outputs": [],
   "source": [
    "# 创建一个空字典\n",
    "a_empty_dic = { }"
   ]
  },
  {
   "cell_type": "code",
   "execution_count": 40,
   "id": "b5d51e3b-e6a8-49f7-ad1c-cf2b55b97c6b",
   "metadata": {},
   "outputs": [
    {
     "name": "stdout",
     "output_type": "stream",
     "text": [
      "{'color': 'red', 'point': 5, 'name': 'Jim'}\n"
     ]
    }
   ],
   "source": [
    "# 添加字典元素\n",
    "a_alien['name'] = 'Jim'\n",
    "print(a_alien)  "
   ]
  },
  {
   "cell_type": "code",
   "execution_count": 41,
   "id": "777f17c2-9a27-41bd-9730-85de80f2fec5",
   "metadata": {},
   "outputs": [
    {
     "name": "stdout",
     "output_type": "stream",
     "text": [
      "{'color': 'red', 'point': 5, 'name': 'Jim'}\n",
      "{'color': 'yellow', 'point': 5, 'name': 'Jim'}\n"
     ]
    }
   ],
   "source": [
    "# 修改字典中值\n",
    "print(a_alien)\n",
    "a_alien['color'] = 'yellow'\n",
    "print(a_alien)"
   ]
  },
  {
   "cell_type": "code",
   "execution_count": 42,
   "id": "f6bf2b03-56d5-4e00-a595-ea90a8367738",
   "metadata": {},
   "outputs": [
    {
     "name": "stdout",
     "output_type": "stream",
     "text": [
      "{'color': 'yellow', 'point': 5, 'name': 'Jim'}\n",
      "{'point': 5, 'name': 'Jim'}\n"
     ]
    }
   ],
   "source": [
    "# 删除键值对\n",
    "print(a_alien)\n",
    "del a_alien['color']\n",
    "print(a_alien)   "
   ]
  },
  {
   "cell_type": "code",
   "execution_count": 46,
   "id": "0db964c9-324e-4910-9afb-5e59e3c13b52",
   "metadata": {},
   "outputs": [
    {
     "name": "stdout",
     "output_type": "stream",
     "text": [
      "jen favorite language is python\n",
      "sarah favorite language is c\n",
      "edward favorite language is ruby\n",
      "phil favorite language is python\n",
      "Jen\n",
      "Sarah\n",
      "Edward\n",
      "Phil\n",
      "jen favorite languages is Python\n"
     ]
    }
   ],
   "source": [
    "# 遍历字典,方法.item（）返回一个键—值对列表\n",
    "favorite_languages = {\n",
    "'jen': 'python',\n",
    "'sarah': 'c',\n",
    "'edward': 'ruby',\n",
    "'phil': 'python',\n",
    "}\n",
    "\n",
    "for key,value in favorite_languages.items():\n",
    "    print(key + ' '+  'favorite language is ' + value)\n",
    "    \n",
    "# 遍历字典中的所有键\n",
    "favorite_languages = {\n",
    "'jen': 'python',\n",
    "'sarah': 'c',\n",
    "'edward': 'ruby',\n",
    "'phil': 'python',\n",
    "}\n",
    "\n",
    "for name in favorite_languages.keys():\n",
    "    print(name.title())\n",
    "\n",
    "for name_1 in favorite_languages.keys():\n",
    "    if name_1 == 'jen' :\n",
    "        print(name_1 + ' ' + 'favorite languages is' + ' ' + favorite_languages[name_1].title())\n",
    "    "
   ]
  },
  {
   "cell_type": "code",
   "execution_count": null,
   "id": "fbd5bfc5-0f33-4bab-bd9b-1ca22facc60a",
   "metadata": {},
   "outputs": [],
   "source": [
    "# 按照顺序遍历所有键，sorted（）函数\n",
    "favorite_languages\n",
    "for name_2 in sorted(favorite_languages.keys()):\n",
    "    print(name_2 )"
   ]
  },
  {
   "cell_type": "code",
   "execution_count": 47,
   "id": "56429270-4486-4b81-a6ef-f49535f9e464",
   "metadata": {},
   "outputs": [
    {
     "name": "stdout",
     "output_type": "stream",
     "text": [
      "edward\n",
      "jen\n",
      "phil\n",
      "sarah\n"
     ]
    }
   ],
   "source": [
    "# 按照顺序遍历所有键，sorted（）函数\n",
    "favorite_languages\n",
    "for name_2 in sorted(favorite_languages.keys()):\n",
    "    print(name_2 )"
   ]
  },
  {
   "cell_type": "code",
   "execution_count": null,
   "id": "ba732b8c-ad14-4d05-80de-31a41469c947",
   "metadata": {},
   "outputs": [],
   "source": [
    "# 遍历字典中的所有值,values()\n",
    "favorite_languages\n",
    "for language in favorite_languages.values():\n",
    "    print(language.title())"
   ]
  },
  {
   "cell_type": "code",
   "execution_count": null,
   "id": "b6f1718e-f9b4-4cdc-904e-08d413e40be8",
   "metadata": {},
   "outputs": [],
   "source": [
    "# 用集合方式可以剔除重复项\n",
    "for language in set(favorite_languages.values()):\n",
    "    print(language.title())"
   ]
  },
  {
   "cell_type": "code",
   "execution_count": null,
   "id": "7f111469-6ee0-45a6-a3ad-de66a71a39b9",
   "metadata": {},
   "outputs": [],
   "source": [
    "# 嵌套，字典中嵌套列表，列表中嵌套字典\n",
    "\n",
    "# 字典中嵌套列表\n",
    "a_dict = {'a':2,'b':3,'c':4}\n",
    "a_list\n",
    "a_dict_1 = {'list_1':a_list}\n",
    "a_dict_1['list_1']\n",
    "for elements in a_dict_1:\n",
    "    print(a_dict_1[elements])\n",
    "    \n",
    "for value in a_dict_1[elements]:\n",
    "    print(value)\n",
    "\n"
   ]
  },
  {
   "cell_type": "code",
   "execution_count": null,
   "id": "43d094e8-d7f5-4c6b-94d6-6bfab6e0129a",
   "metadata": {},
   "outputs": [],
   "source": [
    "# 在列表中嵌字典\n",
    "alien_0 = {'color': 'green', 'points': 5}\n",
    "alien_1 = {'color': 'yellow', 'points': 10}\n",
    "alien_2 = {'color': 'red', 'points': 15}\n",
    "\n",
    "aliens = [alien_0, alien_1, alien_2]\n",
    "for alien in aliens:\n",
    "    print(alien)"
   ]
  },
  {
   "cell_type": "code",
   "execution_count": null,
   "id": "dbc4ec26-19e9-4f1d-95ff-ad9823c0d5f6",
   "metadata": {},
   "outputs": [],
   "source": [
    "# 字典中嵌套字典\n",
    "users = {\n",
    "'aeinstein': {\n",
    "'first': 'albert',\n",
    "'last': 'einstein',\n",
    "'location': 'princeton',\n",
    "},\n",
    "'mcurie': {\n",
    "'first': 'marie',\n",
    "'last': 'curie',\n",
    "'location': 'paris',\n",
    "},\n",
    "}\n",
    "    \n",
    "for username, user_info in users.items():\n",
    "    print(\"\\nUsername: \" + username)\n",
    "    full_name = user_info['first'] + \" \" + user_info['last']\n",
    "    location = user_info['location']\n",
    "    print(\"\\tFull name: \" + full_name.title())\n",
    "    print(\"\\tLocation: \" + location.title())\n",
    "    "
   ]
  },
  {
   "cell_type": "markdown",
   "id": "c9b3c7b6-88c7-41b1-81ec-4c18d5ca872e",
   "metadata": {},
   "source": [
    "### 4.4 类"
   ]
  },
  {
   "cell_type": "code",
   "execution_count": null,
   "id": "3df38c09-de24-4377-8750-37402b6d143a",
   "metadata": {},
   "outputs": [],
   "source": [
    "暂空"
   ]
  },
  {
   "cell_type": "code",
   "execution_count": null,
   "id": "1d599fd2-6b43-485e-86e9-10d0a5484203",
   "metadata": {},
   "outputs": [],
   "source": []
  },
  {
   "cell_type": "markdown",
   "id": "6142528e-7e4c-43b7-8a4d-0e93d176bbba",
   "metadata": {},
   "source": [
    "## 5、补充 ———— Python的循环语句"
   ]
  },
  {
   "cell_type": "markdown",
   "id": "8662d464-8217-4022-9874-0567c3cffc9c",
   "metadata": {},
   "source": [
    "### 5.1、for循环"
   ]
  },
  {
   "cell_type": "code",
   "execution_count": 5,
   "id": "eb0b102c-2e0f-4363-819a-78f29eaaff93",
   "metadata": {},
   "outputs": [
    {
     "name": "stdout",
     "output_type": "stream",
     "text": [
      "apple\n",
      "banana\n",
      "cherry\n"
     ]
    }
   ],
   "source": [
    "fruits = ['apple','banana','cherry'] \n",
    "\n",
    "for fruit in fruits: \n",
    "    print(fruit)"
   ]
  },
  {
   "cell_type": "markdown",
   "id": "0ea058fb-f367-46d6-96d7-7b72c7fad1be",
   "metadata": {},
   "source": [
    "for循环的常见用法"
   ]
  },
  {
   "cell_type": "markdown",
   "id": "ca5ff5da-24eb-4110-bdfb-c30b3cc3f9ac",
   "metadata": {},
   "source": [
    "（1）遍历顺序数字"
   ]
  },
  {
   "cell_type": "code",
   "execution_count": 6,
   "id": "4820d296-cedd-4bfd-af5c-53efacfe0115",
   "metadata": {},
   "outputs": [
    {
     "name": "stdout",
     "output_type": "stream",
     "text": [
      "0\n",
      "1\n",
      "2\n",
      "3\n",
      "4\n"
     ]
    }
   ],
   "source": [
    "for i in range(5):  # 0到4（不包含5）\n",
    "    print(i)"
   ]
  },
  {
   "cell_type": "markdown",
   "id": "6e1d896f-694b-4135-9f46-1e70c5cf5a91",
   "metadata": {},
   "source": [
    "（2）遍历字典"
   ]
  },
  {
   "cell_type": "code",
   "execution_count": 7,
   "id": "0872c20f-02d6-40b7-87af-813aafa4be8e",
   "metadata": {},
   "outputs": [
    {
     "name": "stdout",
     "output_type": "stream",
     "text": [
      "name Alice\n",
      "age 25\n",
      "name Alice\n",
      "age 25\n"
     ]
    }
   ],
   "source": [
    "person = {\"name\": \"Alice\", \"age\": 25}\n",
    "for key in person:          # 遍历键\n",
    "    print(key, person[key])\n",
    "\n",
    "for key, value in person.items():  # 同时遍历键和值\n",
    "    print(key, value)"
   ]
  },
  {
   "cell_type": "markdown",
   "id": "028b200b-6a0b-432c-acc4-4e305a3bc6ac",
   "metadata": {},
   "source": [
    "（3）嵌套循环"
   ]
  },
  {
   "cell_type": "code",
   "execution_count": 8,
   "id": "5f598e37-5c6d-4484-b16c-fbb625844ee6",
   "metadata": {},
   "outputs": [
    {
     "name": "stdout",
     "output_type": "stream",
     "text": [
      "(0, 0)\n",
      "(0, 1)\n",
      "(1, 0)\n",
      "(1, 1)\n",
      "(2, 0)\n",
      "(2, 1)\n"
     ]
    }
   ],
   "source": [
    "for i in range(3):\n",
    "    for j in range(2):\n",
    "        print(f\"({i}, {j})\")"
   ]
  },
  {
   "cell_type": "markdown",
   "id": "e6e8fca0-6f1a-447e-913f-581eed9c6928",
   "metadata": {},
   "source": [
    "创建一个1-10的平方列表"
   ]
  },
  {
   "cell_type": "code",
   "execution_count": 20,
   "id": "dbb7b630-b138-4a02-9aa2-96a138eeaaa1",
   "metadata": {},
   "outputs": [
    {
     "name": "stdout",
     "output_type": "stream",
     "text": [
      "[1, 4, 9, 16, 25, 36, 49, 64, 81, 100]\n"
     ]
    }
   ],
   "source": [
    "squares = []\n",
    "for value in range(1,11):\n",
    "    square = value ** 2\n",
    "    squares.append(square)\n",
    "print(squares)"
   ]
  },
  {
   "cell_type": "markdown",
   "id": "31123c5a-60b4-4e34-b74b-f978051c6054",
   "metadata": {},
   "source": [
    "### 5.2、while循环"
   ]
  },
  {
   "cell_type": "markdown",
   "id": "7abe70aa-7ad4-4a39-a4a7-868a1904d60a",
   "metadata": {},
   "source": [
    "for循环适合对集合中每一个元素执行代码块，while循环适合不断循环代码块，直到条件不在满足时停止"
   ]
  },
  {
   "cell_type": "code",
   "execution_count": 4,
   "id": "54a257e3-16c9-4d22-bd65-dc6aec581d36",
   "metadata": {},
   "outputs": [
    {
     "name": "stdout",
     "output_type": "stream",
     "text": [
      "0\n",
      "1\n",
      "2\n",
      "3\n",
      "4\n",
      "5\n",
      "6\n",
      "7\n"
     ]
    }
   ],
   "source": [
    "num_1 = 0\n",
    "while num_1 <=7:\n",
    "    print(num_1)\n",
    "    num_1 += 1\n",
    "    \n",
    "# 上述代码表示，在num_1小于等于7时输出num_1的值"
   ]
  },
  {
   "cell_type": "markdown",
   "id": "2e8beda3-26d4-4763-a6d0-b5cdc8e18007",
   "metadata": {},
   "source": [
    "+ 使用break退出循环"
   ]
  },
  {
   "cell_type": "code",
   "execution_count": 12,
   "id": "75e760a3-501a-462e-aac2-b95667fb8468",
   "metadata": {},
   "outputs": [
    {
     "name": "stdout",
     "output_type": "stream",
     "text": [
      "10\n",
      "12\n",
      "14\n",
      "16\n",
      "18\n",
      "20\n",
      "22\n",
      "24\n",
      "26\n",
      "28\n",
      "30\n",
      "32\n",
      "34\n",
      "36\n"
     ]
    }
   ],
   "source": [
    "num_2 = 8\n",
    "while num_2 >7:\n",
    "    num_2 += 2\n",
    "    print(num_2)\n",
    "    if num_2 > 35:\n",
    "        break\n",
    "\n",
    "# 上述代码表示，num_2 大于&时执行下面的代码块，直到num_2大于35时停止"
   ]
  },
  {
   "cell_type": "markdown",
   "id": "f7e99b05-aee4-4e61-bb58-22c1495d0ef6",
   "metadata": {},
   "source": [
    "+ while的continue"
   ]
  },
  {
   "cell_type": "code",
   "execution_count": 13,
   "id": "8d4181ed-c506-4279-82e9-ba35e6c9cf8c",
   "metadata": {
    "scrolled": true
   },
   "outputs": [
    {
     "name": "stdout",
     "output_type": "stream",
     "text": [
      "1\n",
      "3\n",
      "5\n",
      "7\n",
      "9\n"
     ]
    }
   ],
   "source": [
    "num_3 = 0\n",
    "while num_3 < 10 :\n",
    "    num_3 += 1\n",
    "    if num_3 % 2 == 0 :\n",
    "        continue\n",
    "\n",
    "    print(num_3)\n",
    "\n",
    "# 上述代码表示，在num_3小于10时，让num_3＋1，并判断其是否为奇数，是奇数运行下面的代码，不是则回到循环"
   ]
  },
  {
   "cell_type": "markdown",
   "id": "c4a5f195-4649-4266-a905-82a1c12133d5",
   "metadata": {},
   "source": [
    "### 5.3、while 循环处理列表、字典"
   ]
  },
  {
   "cell_type": "markdown",
   "id": "2fca89f1-b36b-45be-b806-d051349b086e",
   "metadata": {},
   "source": [
    "+ 不同列表间移动元素"
   ]
  },
  {
   "cell_type": "code",
   "execution_count": 33,
   "id": "e8c9d5e6-3224-4bb6-bc3a-c127a7016cea",
   "metadata": {},
   "outputs": [
    {
     "name": "stdout",
     "output_type": "stream",
     "text": [
      "[2323, 2323]\n"
     ]
    }
   ],
   "source": [
    "list_k = [1,4,23,21,12,4,2,23,2323,2323,22,23,3,2,3,4]\n",
    "list_empty = []\n",
    "\n",
    "while list_k :\n",
    "    num = list_k.pop()\n",
    "    if num > 40:\n",
    "        list_empty.append(num)\n",
    "print(list_empty)"
   ]
  },
  {
   "cell_type": "markdown",
   "id": "3a5239ed-00bb-4217-8b0b-55a424597573",
   "metadata": {},
   "source": [
    "删除为特定值的元素\n"
   ]
  },
  {
   "cell_type": "code",
   "execution_count": 34,
   "id": "3d6b63ff-29d8-429e-a29d-22c0b356161f",
   "metadata": {},
   "outputs": [
    {
     "name": "stdout",
     "output_type": "stream",
     "text": [
      "[1, 4, 23, 21, 12, 4, 2, 23, 2323, 2323, 22, 23, 3, 2, 3, 4]\n",
      "[1, 23, 21, 12, 2, 23, 2323, 2323, 22, 23, 3, 2, 3]\n"
     ]
    }
   ],
   "source": [
    "list_k = [1,4,23,21,12,4,2,23,2323,2323,22,23,3,2,3,4]\n",
    "num_4 = 4\n",
    "print(list_k)\n",
    "\n",
    "while num_4 in list_k :\n",
    "    list_k.remove(num_4)\n",
    "\n",
    "print(list_k)"
   ]
  },
  {
   "cell_type": "code",
   "execution_count": null,
   "id": "8977d50c-54a8-4fe3-9b62-76bbe809d3da",
   "metadata": {},
   "outputs": [],
   "source": []
  },
  {
   "cell_type": "code",
   "execution_count": null,
   "id": "a42bd044-7375-4f60-bd7f-62b7b31df1c8",
   "metadata": {},
   "outputs": [],
   "source": []
  },
  {
   "cell_type": "code",
   "execution_count": null,
   "id": "786ceaf2-cb22-417c-b149-3da7b50e3f72",
   "metadata": {},
   "outputs": [],
   "source": []
  },
  {
   "cell_type": "code",
   "execution_count": null,
   "id": "939687d5-62a0-42ba-8de6-41cbc41d2274",
   "metadata": {},
   "outputs": [],
   "source": []
  },
  {
   "cell_type": "markdown",
   "id": "886e7a8e-7d65-4d92-91c0-859602cbcd4e",
   "metadata": {},
   "source": [
    "## 6、 Python条件判断语句"
   ]
  },
  {
   "cell_type": "markdown",
   "id": "bd43bb9b-c794-47ec-9ffc-6644652317af",
   "metadata": {},
   "source": [
    "Python中用if语句进行条件判断"
   ]
  },
  {
   "cell_type": "markdown",
   "id": "a2f0c259-d9e6-4ad6-a539-e7f7fc9e7671",
   "metadata": {},
   "source": [
    "### 6.1 条件判断"
   ]
  },
  {
   "cell_type": "code",
   "execution_count": 23,
   "id": "f4d21477-76c2-4029-8c33-5c66ae7a62dc",
   "metadata": {},
   "outputs": [
    {
     "data": {
      "text/plain": [
       "True"
      ]
     },
     "execution_count": 23,
     "metadata": {},
     "output_type": "execute_result"
    }
   ],
   "source": [
    "# 逻辑判断  条件判断   布尔表达式\n",
    "\n",
    "# 布尔表达式,结果为True or False\n",
    "a_result = True\n",
    "b_result = False\n",
    "\n",
    "1 > 2  \n",
    "2 > 1 \n",
    "1 == 2  # 是否相等\n",
    "1 == 2\n",
    "1 >= 2\n",
    "1 <= 1\n",
    "1 != 1\n",
    "1 != 2  # 判断是否不等，是不等，为True\n",
    "\n",
    "# 检查多个条件\n",
    "1 > 3 and 2 == 2  # and,都为True时才True\n",
    "1 > 3 or 2 == 2   # or 一个为True就是True\n"
   ]
  },
  {
   "cell_type": "markdown",
   "id": "0305fa6c-5ac8-4d18-bcc3-e0811220a59f",
   "metadata": {},
   "source": [
    "检查特定值是否在列表中"
   ]
  },
  {
   "cell_type": "code",
   "execution_count": 21,
   "id": "3e259071-cff0-45de-8f4e-fda216938296",
   "metadata": {},
   "outputs": [
    {
     "data": {
      "text/plain": [
       "True"
      ]
     },
     "execution_count": 21,
     "metadata": {},
     "output_type": "execute_result"
    }
   ],
   "source": [
    "# in\n",
    "list_i = ['as','as',1,'ad',3,'ada']\n",
    "str_1 = 'as'\n",
    "\n",
    "str_1 in list_i  # 判断str_1 是否在list_i内"
   ]
  },
  {
   "cell_type": "markdown",
   "id": "46868f28-6a57-45ea-a69f-e504bb052750",
   "metadata": {},
   "source": [
    "检查特定值是否不在列表中"
   ]
  },
  {
   "cell_type": "code",
   "execution_count": 22,
   "id": "4048f21f-e1fe-405d-a023-66ca6ed9d550",
   "metadata": {},
   "outputs": [
    {
     "data": {
      "text/plain": [
       "False"
      ]
     },
     "execution_count": 22,
     "metadata": {},
     "output_type": "execute_result"
    }
   ],
   "source": [
    "# not in\n",
    "list_i = ['as','as',1,'ad',3,'ada']\n",
    "str_1 = 'asd'\n",
    "str_2 = 'as'\n",
    "\n",
    "str_1 not in list_i  # True\n",
    "str_2 not in list_i  # False\n"
   ]
  },
  {
   "cell_type": "code",
   "execution_count": 20,
   "id": "403422c0-d4e0-4c47-87df-b352cd0302b6",
   "metadata": {},
   "outputs": [
    {
     "name": "stdout",
     "output_type": "stream",
     "text": [
      "1小于2\n"
     ]
    }
   ],
   "source": [
    "# 一个简单的if条件判断\n",
    "\n",
    "if 1 < 2 :\n",
    "    print('1小于2')\n",
    "\n",
    "# 条件判断：1 < 2,条件判断为True时，执行下面的代码块"
   ]
  },
  {
   "cell_type": "markdown",
   "id": "491aa6ab-2cd7-4b15-91af-7449d6bce0b4",
   "metadata": {},
   "source": [
    "进行多个条件判断"
   ]
  },
  {
   "cell_type": "code",
   "execution_count": 22,
   "id": "c625d30c-f82e-4ca9-877f-2dbaf51504c8",
   "metadata": {},
   "outputs": [
    {
     "name": "stdout",
     "output_type": "stream",
     "text": [
      "21212\n"
     ]
    }
   ],
   "source": [
    "# 同时判断多个条件\n",
    "# and 要求多个条件都为True才为True\n",
    "if 2 > 1 and 3 < 4:\n",
    "    print(21212)"
   ]
  },
  {
   "cell_type": "markdown",
   "id": "9c9748d3-b5de-4d73-952a-bc02fe23b760",
   "metadata": {},
   "source": [
    "### 6.2 if else语句"
   ]
  },
  {
   "cell_type": "code",
   "execution_count": 24,
   "id": "7b37374a-5401-48e0-8df6-dbfa1846bf4e",
   "metadata": {},
   "outputs": [
    {
     "name": "stdout",
     "output_type": "stream",
     "text": [
      "你成年了\n"
     ]
    }
   ],
   "source": [
    "age = 18\n",
    "\n",
    "# 条件判断为True执行if下面的代码，False执行else下的代码\n",
    "if age >=18 :\n",
    "    print('你成年了')\n",
    "else :\n",
    "    print('你未成年')"
   ]
  },
  {
   "cell_type": "markdown",
   "id": "c3f715a8-57a2-44b9-bc14-f90203be2812",
   "metadata": {},
   "source": [
    "###  6.3 if elif else语句"
   ]
  },
  {
   "cell_type": "markdown",
   "id": "16daa167-14f9-4446-b33f-199ecc33ed99",
   "metadata": {},
   "source": [
    "先进性if后的条件测试，满足执行下命令，不满足进行elif的条件测试，True执行下命令，否则执行else命令。"
   ]
  },
  {
   "cell_type": "code",
   "execution_count": 26,
   "id": "5e03f234-4ddf-4cc7-913a-7c81fbbac184",
   "metadata": {},
   "outputs": [
    {
     "name": "stdout",
     "output_type": "stream",
     "text": [
      "you admission cost is 25\n"
     ]
    }
   ],
   "source": [
    "age = 12  \n",
    "if age < 4:\n",
    "    print('you admission cost is 0')\n",
    "elif age <18:\n",
    "    print('you admission cost is 25')\n",
    "else:\n",
    "    print('your admission coat is 40')"
   ]
  },
  {
   "cell_type": "markdown",
   "id": "4a37f761-e791-47ed-821c-8580a64eef64",
   "metadata": {},
   "source": [
    "* 测试多个条件，使用多个if语句"
   ]
  },
  {
   "cell_type": "markdown",
   "id": "c918700d-acea-4bb1-9891-39b28ea49b36",
   "metadata": {},
   "source": [
    "### 6.4 使用if语句处理列表"
   ]
  },
  {
   "cell_type": "markdown",
   "id": "d3e4865a-8110-48ea-a81c-ae8d171c859d",
   "metadata": {},
   "source": [
    "+ 检查列表特殊元素"
   ]
  },
  {
   "cell_type": "code",
   "execution_count": 30,
   "id": "e4486004-0f78-42db-9c43-fa1d1d247707",
   "metadata": {},
   "outputs": [
    {
     "name": "stdout",
     "output_type": "stream",
     "text": [
      "e is not there\n"
     ]
    }
   ],
   "source": [
    "list_j = ['a','b','c','d','f','g','h']\n",
    "str_3 = 'e'\n",
    "str_4 = 'g'\n",
    "\n",
    "\n",
    "if str_3 in list_j:\n",
    "    print('e is there')\n",
    "else:\n",
    "    print('e is not there')"
   ]
  },
  {
   "cell_type": "markdown",
   "id": "c66fc98e-aefa-4c90-b6cc-a71eb355b885",
   "metadata": {},
   "source": [
    "if语句处理列表"
   ]
  },
  {
   "cell_type": "code",
   "execution_count": 28,
   "id": "575d7b5b-14ea-4459-8800-1f17242af1a8",
   "metadata": {},
   "outputs": [
    {
     "name": "stdout",
     "output_type": "stream",
     "text": [
      "dsd在列表内\n",
      "sd在列表内\n",
      "sde不在列表内\n",
      "sdse不在列表内\n",
      "sdsffsf不在列表内\n",
      "Are you sure you want a plain pizza?\n"
     ]
    }
   ],
   "source": [
    "# if条件句处理列表\n",
    "list_4 = ['dsd','sd','sde','sdse','sdsffsf']\n",
    "list_3 = ['dsd','dds','sd','sds','sds']\n",
    "for name in list_4:\n",
    "    if name in list_3:\n",
    "        print(name+'在列表内')\n",
    "    else:\n",
    "        print(name+'不在列表内')\n",
    "    \n",
    "    \n",
    "# 确定列表是不是为空\n",
    "requested_toppings = []\n",
    "if requested_toppings:\n",
    "    for requested_topping in requested_toppings:\n",
    "        print(\"Adding \" + requested_topping + \".\")\n",
    "    print(\"\\nFinished making your pizza!\")\n",
    "else:\n",
    "    print(\"Are you sure you want a plain pizza?\")"
   ]
  },
  {
   "cell_type": "markdown",
   "id": "5a887e03-b7f7-450d-8ccf-bb46eaaea5e5",
   "metadata": {},
   "source": [
    "## 7、函数"
   ]
  },
  {
   "cell_type": "code",
   "execution_count": null,
   "id": "6ffc4944-f1b5-4bb7-9efb-f81a2acc6087",
   "metadata": {},
   "outputs": [],
   "source": [
    "\n",
    "    \n",
    "# 函数\n",
    "# 定义一个函数greet_user()\n",
    "def greet_user():\n",
    "    \"\"\"显示简单的问候语\"\"\" # 注释\n",
    "    print(\"Hello!\")\n",
    "greet_user()\n",
    "    \n",
    "    \n",
    "# 设置函数参数\n",
    "def sum(a  ,b  ):\n",
    "    print(a+b)\n",
    "sum(2, 4)\n",
    "    \n",
    "    \n",
    "# 形参和实参\n",
    "def greet_user(username): # usename是形参\n",
    "    \"\"\"显示简单的问候语\"\"\"\n",
    "    print(\"Hello, \" +  username.title() + \"!\")\n",
    "greet_user('1')\n",
    "greet_user('jesse')  # jesse为实参\n",
    "    \n",
    "    \n",
    "# 位置实参\n",
    "def describe_pet(animal_type, pet_name):\n",
    "    \"\"\"显示宠物的信息\"\"\"\n",
    "    print(\"\\nI have a \" + animal_type + \".\")\n",
    "    print(\"My \" + animal_type + \"'s name is \" + pet_name.title() + \".\")\n",
    "describe_pet('hamster', 'harry')\n",
    "    \n",
    "    \n",
    "# 关键字实参，一一对应\n",
    "def describe_pet(animal_type, pet_name):\n",
    "    \"\"\"显示宠物的信息\"\"\"\n",
    "    print(\"\\nI have a \" + animal_type + \".\")\n",
    "    print(\"My \" + animal_type + \"'s name is \" + pet_name.title() + \".\")\n",
    "describe_pet(animal_type='hamster', pet_name='harry')\n",
    "    \n",
    "    \n",
    "# 　函数参数默认值\n",
    "def describe_pet(pet_name, animal_type='dog'):\n",
    "    \"\"\"显示宠物的信息\"\"\"\n",
    "    print(\"\\nI have a \" + animal_type + \".\")\n",
    "    print(\"My \" + animal_type + \"'s name is \" + pet_name.title() + \".\")\n",
    "describe_pet(pet_name='willie')\n",
    "    \n",
    "# 多种函数调用方法\n",
    "# 一条名为Willie的小狗\n",
    "describe_pet('willie')\n",
    "describe_pet(pet_name='willie')\n",
    "# 一只名为Harry的仓鼠\n",
    "describe_pet('harry', 'hamster')\n",
    "describe_pet(pet_name='harry', animal_type='hamster')\n",
    "describe_pet(animal_type='hamster', pet_name='harry')\n",
    "    \n",
    "    \n",
    "# 返回值，函数处理一些数据，并返回一个或一组值。函数返回的值被称为返回值，用return 语句\n",
    "def get_formatted_name(first_name, last_name):\n",
    "    \"\"\"返回整洁的姓名\"\"\"\n",
    "    full_name = first_name + ' ' + last_name\n",
    "    return full_name.title()\n",
    "get_formatted_name('zou', 'minghui') \n",
    "    \n",
    "def sum (a , b , c):\n",
    "    sum_value = a + b + c\n",
    "    return sum_value\n",
    "sum(3,4,5)\n",
    "    \n",
    "# 让实参变成可选的\n",
    "def get_formatted_name(first_name, last_name, middle_name=''):\n",
    "    \"\"\"返回整洁的姓名\"\"\"\n",
    "    if middle_name:\n",
    "        full_name = first_name + ' ' + middle_name + ' ' + last_name\n",
    "    else:\n",
    "        full_name = first_name + ' ' + last_name\n",
    "    return full_name.title()\n",
    "musician = get_formatted_name('jimi', 'hendrix')\n",
    "print(musician)\n",
    "musician = get_formatted_name('john', 'hooker', 'lee')\n",
    "print(musician)\n",
    "    \n",
    "    \n",
    "# 返回字典\n",
    "def build_person(first_name, last_name):\n",
    "    \"\"\"返回一个字典，其中包含有关一个人的信息\"\"\"\n",
    "    person = {'first': first_name, 'last': last_name}\n",
    "    return person\n",
    "musician = build_person('jimi', 'hendrix')\n",
    "print(musician)\n",
    "\n",
    "# 问候列表每一个元素\n",
    "def greet_users(names):\n",
    "    \"\"\"向列表中的每位用户都发出简单的问候\"\"\"\n",
    "    for name in names:\n",
    "        msg = \"Hello, \" + name.title() + \"!\"\n",
    "        print(msg)\n",
    "usernames = ['hannah', 'ty', 'margot']\n",
    "greet_users(usernames)\n",
    "    \n",
    "# 在函数中修改列表\n",
    "\n",
    "# 首先创建一个列表，其中包含一些要打印的设计\n",
    "unprinted_designs = ['iphone case', 'robot pendant', 'dodecahedron']\n",
    "completed_models = []\n",
    "# 模拟打印每个设计，直到没有未打印的设计为止\n",
    "# 打印每个设计后，都将其移到列表completed_models中\n",
    "while unprinted_designs:\n",
    "    current_design = unprinted_designs.pop()\n",
    "#模拟根据设计制作3D打印模型的过程\n",
    "    print(\"Printing model: \" + current_design)\n",
    "    completed_models.append(current_design)\n",
    "# 显示打印好的所有模型\n",
    "print(\"\\nThe following models have been printed:\")\n",
    "for completed_model in completed_models:\n",
    "    print(completed_model)\n",
    "    \n",
    "    \n",
    "# 禁止函数修改列表，创建副本 : \n",
    "# 用切片法创建副本\n",
    "\n",
    "unprinted_designs = ['iphone case', 'robot pendant', 'dodecahedron']\n",
    "completed_models = []\n",
    "# 模拟打印每个设计，直到没有未打印的设计为止\n",
    "# 打印每个设计后，都将其移到列表completed_models中\n",
    "while unprinted_designs[:]:\n",
    "    current_design = unprinted_designs.pop()\n",
    "#模拟根据设计制作3D打印模型的过程\n",
    "    print(\"Printing model: \" + current_design)\n",
    "    completed_models.append(current_design)\n",
    "# 显示打印好的所有模型\n",
    "print(\"\\nThe following models have been printed:\")\n",
    "for completed_model in completed_models:\n",
    "    print(completed_model)\n",
    "    \n",
    "\n",
    "# 传递任意数量的实参,形参*toppings\n",
    "def function_1(*toppings):\n",
    "    print(toppings)\n",
    "function_1(1,2,3)\n",
    "function_1('ji','jie')\n",
    "\n",
    "# 结合使用位置实参和任意数量实参\n",
    "def make_pizza(size, *toppings):\n",
    "    \"\"\"概述要制作的比萨\"\"\"\n",
    "    print(\"\\nMaking a \" + str(size) +\n",
    "    \"-inch pizza with the following toppings:\")\n",
    "    for topping in toppings:\n",
    "        print(\"- \" + topping)\n",
    "make_pizza(16, 'pepperoni')\n",
    "make_pizza(12, 'mushrooms', 'green peppers', 'extra cheese')\n",
    "    \n",
    "# 使用任意数量的关键字实参\n",
    "def build_profile(first, last, **user_info):\n",
    "    \"\"\"创建一个字典，其中包含我们知道的有关用户的一切\"\"\"\n",
    "    profile = {}\n",
    "    profile['first_name'] = first\n",
    "    profile['last_name'] = last\n",
    "    for key, value in user_info.items():\n",
    "        profile[key] = value\n",
    "    return profile\n",
    "user_profile = build_profile('albert', 'einstein',\n",
    "                            location='princeton',\n",
    "                            field='physics')\n",
    "print(user_profile)\n",
    "\n",
    "    "
   ]
  },
  {
   "cell_type": "markdown",
   "id": "3812a026-7f0a-4910-b28b-a16dade76ee5",
   "metadata": {},
   "source": [
    "## 8、导入模块"
   ]
  },
  {
   "cell_type": "markdown",
   "id": "11d3c3eb-a67c-4890-9cd1-de6169b276b3",
   "metadata": {},
   "source": [
    "使用import 导入"
   ]
  },
  {
   "cell_type": "code",
   "execution_count": 29,
   "id": "ed123f7a-537c-4df8-9293-c85971921753",
   "metadata": {},
   "outputs": [
    {
     "data": {
      "text/plain": [
       "np.int64(1)"
      ]
     },
     "execution_count": 29,
     "metadata": {},
     "output_type": "execute_result"
    }
   ],
   "source": [
    "# 导入模块,模块就是.py文件,as给函数指定你想要的名字\n",
    "import numpy as np\n",
    "np.abs(-1)"
   ]
  },
  {
   "cell_type": "code",
   "execution_count": 30,
   "id": "e041b4d0-aaaf-4eba-804f-5d5fb3237fde",
   "metadata": {},
   "outputs": [
    {
     "data": {
      "text/plain": [
       "np.int64(3)"
      ]
     },
     "execution_count": 30,
     "metadata": {},
     "output_type": "execute_result"
    }
   ],
   "source": [
    "# 导入模块中的特定函数\n",
    "from numpy import abs as ab\n",
    "ab(-3)\n",
    "    "
   ]
  },
  {
   "cell_type": "code",
   "execution_count": 31,
   "id": "12eba071-bebc-4772-bef9-5e24760078fd",
   "metadata": {},
   "outputs": [
    {
     "data": {
      "text/plain": [
       "np.int64(12)"
      ]
     },
     "execution_count": 31,
     "metadata": {},
     "output_type": "execute_result"
    }
   ],
   "source": [
    "# 导入多个函数\n",
    "from numpy import abs ,absolute\n",
    "abs(-7)\n",
    "absolute(-12)"
   ]
  },
  {
   "cell_type": "code",
   "execution_count": 32,
   "id": "dbf49a71-ed48-49c5-84ac-12b1eeb22875",
   "metadata": {},
   "outputs": [],
   "source": [
    "# 导入模块内所有函数\n",
    "from numpy import *"
   ]
  },
  {
   "cell_type": "code",
   "execution_count": null,
   "id": "d51793be-9545-44d1-9d09-ab90b5f4f7e3",
   "metadata": {},
   "outputs": [],
   "source": []
  },
  {
   "cell_type": "code",
   "execution_count": null,
   "id": "4b2f4780-6e23-40ab-972a-f4135a9cd482",
   "metadata": {},
   "outputs": [],
   "source": []
  }
 ],
 "metadata": {
  "kernelspec": {
   "display_name": "Python 3 (ipykernel)",
   "language": "python",
   "name": "python3"
  },
  "language_info": {
   "codemirror_mode": {
    "name": "ipython",
    "version": 3
   },
   "file_extension": ".py",
   "mimetype": "text/x-python",
   "name": "python",
   "nbconvert_exporter": "python",
   "pygments_lexer": "ipython3",
   "version": "3.13.5"
  },
  "panel-cell-order": [
   "3fb890da-96aa-46bc-bbae-84b4ae567622",
   "ec822777-f2d9-48c3-9621-1c0ada70868b",
   "efbd9ad5-f85d-4511-a147-a4fc3a5b3fb3"
  ]
 },
 "nbformat": 4,
 "nbformat_minor": 5
}
